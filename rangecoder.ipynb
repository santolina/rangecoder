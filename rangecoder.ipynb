{
  "nbformat": 4,
  "nbformat_minor": 0,
  "metadata": {
    "colab": {
      "name": "rangecoder.ipynb",
      "provenance": [],
      "collapsed_sections": [],
      "authorship_tag": "ABX9TyOKNqYvhUz0mJ3iAmsGrYtC",
      "include_colab_link": true
    },
    "kernelspec": {
      "name": "python3",
      "display_name": "Python 3"
    }
  },
  "cells": [
    {
      "cell_type": "markdown",
      "metadata": {
        "id": "view-in-github",
        "colab_type": "text"
      },
      "source": [
        "<a href=\"https://colab.research.google.com/github/santolina/rangecoder/blob/master/rangecoder.ipynb\" target=\"_parent\"><img src=\"https://colab.research.google.com/assets/colab-badge.svg\" alt=\"Open In Colab\"/></a>"
      ]
    },
    {
      "cell_type": "code",
      "metadata": {
        "id": "31dz1dpPt76O",
        "colab_type": "code",
        "colab": {
          "base_uri": "https://localhost:8080/",
          "height": 105
        },
        "outputId": "3ac82a84-fe14-4244-f640-293f3d13bd85"
      },
      "source": [
        "pip install range-coder"
      ],
      "execution_count": 1,
      "outputs": [
        {
          "output_type": "stream",
          "text": [
            "Collecting range-coder\n",
            "\u001b[?25l  Downloading https://files.pythonhosted.org/packages/3a/f2/4d8bea446eb8e22eb87ccce5fecb86ff5d848dce90cb22cc69669bb5c1f8/range_coder-1.1-cp36-cp36m-manylinux2010_x86_64.whl (52kB)\n",
            "\u001b[K     |████████████████████████████████| 61kB 3.8MB/s \n",
            "\u001b[?25hInstalling collected packages: range-coder\n",
            "Successfully installed range-coder-1.1\n"
          ],
          "name": "stdout"
        }
      ]
    },
    {
      "cell_type": "code",
      "metadata": {
        "id": "owag-tcEuCaE",
        "colab_type": "code",
        "colab": {}
      },
      "source": [
        "from range_coder import RangeEncoder, RangeDecoder , prob_to_cum_freq"
      ],
      "execution_count": 0,
      "outputs": []
    },
    {
      "cell_type": "code",
      "metadata": {
        "id": "WOx762d6uQN5",
        "colab_type": "code",
        "colab": {}
      },
      "source": [
        "data = [2, 0, 1, 0, 0, 0, 1, 2, 2]\n",
        "prob = [0.5, 0.2, 0.3]\n",
        "\n",
        "cumFreq = prob_to_cum_freq(prob, resolution=1024)\n"
      ],
      "execution_count": 0,
      "outputs": []
    },
    {
      "cell_type": "code",
      "metadata": {
        "id": "iKwNsXJ8ufkN",
        "colab_type": "code",
        "colab": {
          "base_uri": "https://localhost:8080/",
          "height": 34
        },
        "outputId": "3fd5ca7b-32db-4e2d-c157-97f177239b0f"
      },
      "source": [
        "cumFreq"
      ],
      "execution_count": 5,
      "outputs": [
        {
          "output_type": "execute_result",
          "data": {
            "text/plain": [
              "[0, 512, 717, 1024]"
            ]
          },
          "metadata": {
            "tags": []
          },
          "execution_count": 5
        }
      ]
    },
    {
      "cell_type": "code",
      "metadata": {
        "id": "sCQUQkh5ugO6",
        "colab_type": "code",
        "colab": {}
      },
      "source": [
        "encoder = RangeEncoder(\"./hoge.bin\")\n",
        "encoder.encode(data, cumFreq)\n",
        "encoder.close()\n"
      ],
      "execution_count": 0,
      "outputs": []
    },
    {
      "cell_type": "code",
      "metadata": {
        "id": "6lnQA9kxutH6",
        "colab_type": "code",
        "colab": {
          "base_uri": "https://localhost:8080/",
          "height": 123
        },
        "outputId": "f1af62ef-7834-4fab-88b0-f3d76c3d9fb9"
      },
      "source": [
        "ls -all"
      ],
      "execution_count": 8,
      "outputs": [
        {
          "output_type": "stream",
          "text": [
            "total 20\n",
            "drwxr-xr-x 1 root root 4096 Jun 11 04:54 \u001b[0m\u001b[01;34m.\u001b[0m/\n",
            "drwxr-xr-x 1 root root 4096 Jun 11 04:46 \u001b[01;34m..\u001b[0m/\n",
            "drwxr-xr-x 1 root root 4096 Jun  8 16:15 \u001b[01;34m.config\u001b[0m/\n",
            "-rw-r--r-- 1 root root    2 Jun 11 04:54 hoge.bin\n",
            "drwxr-xr-x 1 root root 4096 May 29 18:19 \u001b[01;34msample_data\u001b[0m/\n"
          ],
          "name": "stdout"
        }
      ]
    },
    {
      "cell_type": "code",
      "metadata": {
        "id": "WqeCDcf1uuKM",
        "colab_type": "code",
        "colab": {}
      },
      "source": [
        "decoder = RangeDecoder(\"./hoge.bin\")\n",
        "dataRec = decoder.decode(len(data), cumFreq)\n",
        "decoder.close()"
      ],
      "execution_count": 0,
      "outputs": []
    },
    {
      "cell_type": "code",
      "metadata": {
        "id": "NQn1zUYLu8W7",
        "colab_type": "code",
        "colab": {
          "base_uri": "https://localhost:8080/",
          "height": 34
        },
        "outputId": "a4a62d0b-fee1-49e6-dfa0-bc6f975f6f32"
      },
      "source": [
        "dataRec"
      ],
      "execution_count": 11,
      "outputs": [
        {
          "output_type": "execute_result",
          "data": {
            "text/plain": [
              "[2, 0, 1, 0, 0, 0, 1, 2, 2]"
            ]
          },
          "metadata": {
            "tags": []
          },
          "execution_count": 11
        }
      ]
    },
    {
      "cell_type": "code",
      "metadata": {
        "id": "bM2fQWL7u_Mj",
        "colab_type": "code",
        "colab": {}
      },
      "source": [
        ""
      ],
      "execution_count": 0,
      "outputs": []
    }
  ]
}